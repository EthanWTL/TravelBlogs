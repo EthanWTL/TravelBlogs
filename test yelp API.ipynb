{
 "cells": [
  {
   "cell_type": "code",
   "execution_count": 2,
   "metadata": {},
   "outputs": [],
   "source": [
    "from yelpapi import YelpAPI\n",
    "import os"
   ]
  },
  {
   "cell_type": "code",
   "execution_count": 6,
   "metadata": {},
   "outputs": [],
   "source": [
    "Yelp_api_key = os.getenv('YELP_API_KEY')"
   ]
  },
  {
   "cell_type": "code",
   "execution_count": 7,
   "metadata": {},
   "outputs": [
    {
     "name": "stdout",
     "output_type": "stream",
     "text": [
      "Name: Smyrna\n",
      "Rating: 4.9\n",
      "Address: 707 W Main St, Charlottesville, VA 22903\n",
      "Phone: (434) 956-4250\n",
      "----------------------------------------\n",
      "Name: Braithwaite Studios Cafe\n",
      "Rating: 5.0\n",
      "Address: 415 Mason St, Dayton, VA 22821\n",
      "Phone: (540) 879-2110\n",
      "----------------------------------------\n",
      "Name: Smyrna Presbyterian Church\n",
      "Rating: 0.0\n",
      "Address: 174 Dooms Crossing Rd, Waynesboro, VA 22980\n",
      "Phone: (540) 942-4523\n",
      "----------------------------------------\n"
     ]
    }
   ],
   "source": [
    "# Replace this with your Yelp API key\n",
    "api_key = Yelp_api_key\n",
    "\n",
    "yelp_api = YelpAPI(api_key)\n",
    "\n",
    "# Search for a business called 'Smyrna' in Charlottesville\n",
    "response = yelp_api.search_query(term='Smyrna', location='Charlottesville, VA', limit=3)\n",
    "\n",
    "# Display the results\n",
    "for business in response['businesses']:\n",
    "    print(f\"Name: {business['name']}\")\n",
    "    print(f\"Rating: {business['rating']}\")\n",
    "    print(f\"Address: {', '.join(business['location']['display_address'])}\")\n",
    "    print(f\"Phone: {business.get('display_phone', 'N/A')}\")\n",
    "    print('-' * 40)"
   ]
  },
  {
   "cell_type": "code",
   "execution_count": 8,
   "metadata": {},
   "outputs": [
    {
     "data": {
      "text/plain": [
       "{'businesses': [{'id': 'yTynZugQRl5GVVFAIEAtfQ',\n",
       "   'alias': 'smyrna-charlottesville',\n",
       "   'name': 'Smyrna',\n",
       "   'image_url': 'https://s3-media3.fl.yelpcdn.com/bphoto/dGIRmKuTH-ImGgg8laOtIw/o.jpg',\n",
       "   'is_closed': False,\n",
       "   'url': 'https://www.yelp.com/biz/smyrna-charlottesville?adjust_creative=7Qh2N9ByxbyIDRiutbihsw&utm_campaign=yelp_api_v3&utm_medium=api_v3_business_search&utm_source=7Qh2N9ByxbyIDRiutbihsw',\n",
       "   'review_count': 75,\n",
       "   'categories': [{'alias': 'mediterranean', 'title': 'Mediterranean'},\n",
       "    {'alias': 'turkish', 'title': 'Turkish'}],\n",
       "   'rating': 4.9,\n",
       "   'coordinates': {'latitude': 38.03177, 'longitude': -78.48996},\n",
       "   'transactions': [],\n",
       "   'location': {'address1': '707 W Main St',\n",
       "    'address2': '',\n",
       "    'address3': None,\n",
       "    'city': 'Charlottesville',\n",
       "    'zip_code': '22903',\n",
       "    'country': 'US',\n",
       "    'state': 'VA',\n",
       "    'display_address': ['707 W Main St', 'Charlottesville, VA 22903']},\n",
       "   'phone': '+14349564250',\n",
       "   'display_phone': '(434) 956-4250',\n",
       "   'distance': 1793.715130296704,\n",
       "   'business_hours': [{'open': [{'is_overnight': False,\n",
       "       'start': '1700',\n",
       "       'end': '2200',\n",
       "       'day': 0},\n",
       "      {'is_overnight': False, 'start': '1700', 'end': '2200', 'day': 2},\n",
       "      {'is_overnight': False, 'start': '1700', 'end': '2200', 'day': 3},\n",
       "      {'is_overnight': False, 'start': '1700', 'end': '2200', 'day': 4},\n",
       "      {'is_overnight': False, 'start': '1700', 'end': '2200', 'day': 5},\n",
       "      {'is_overnight': False, 'start': '1700', 'end': '2200', 'day': 6}],\n",
       "     'hours_type': 'REGULAR',\n",
       "     'is_open_now': False}],\n",
       "   'attributes': {'business_temp_closed': None,\n",
       "    'menu_url': 'https://smyrnacville.com/tasting-menu/',\n",
       "    'open24_hours': None,\n",
       "    'waitlist_reservation': None}},\n",
       "  {'id': 'nyhPV03ucDOZjOAVAE9koA',\n",
       "   'alias': 'braithwaite-studios-cafe-dayton',\n",
       "   'name': 'Braithwaite Studios Cafe',\n",
       "   'image_url': 'https://s3-media1.fl.yelpcdn.com/bphoto/oZDgs2MJ70e6EPdF3W8PhA/o.jpg',\n",
       "   'is_closed': False,\n",
       "   'url': 'https://www.yelp.com/biz/braithwaite-studios-cafe-dayton?adjust_creative=7Qh2N9ByxbyIDRiutbihsw&utm_campaign=yelp_api_v3&utm_medium=api_v3_business_search&utm_source=7Qh2N9ByxbyIDRiutbihsw',\n",
       "   'review_count': 3,\n",
       "   'categories': [{'alias': 'galleries', 'title': 'Art Galleries'},\n",
       "    {'alias': 'cafes', 'title': 'Cafes'}],\n",
       "   'rating': 5.0,\n",
       "   'coordinates': {'latitude': 38.412451, 'longitude': -78.944197},\n",
       "   'transactions': [],\n",
       "   'location': {'address1': '415 Mason St',\n",
       "    'address2': None,\n",
       "    'address3': None,\n",
       "    'city': 'Dayton',\n",
       "    'zip_code': '22821',\n",
       "    'country': 'US',\n",
       "    'state': 'VA',\n",
       "    'display_address': ['415 Mason St', 'Dayton, VA 22821']},\n",
       "   'phone': '+15408792110',\n",
       "   'display_phone': '(540) 879-2110',\n",
       "   'distance': 57696.14146563521,\n",
       "   'business_hours': [{'open': [{'is_overnight': False,\n",
       "       'start': '0800',\n",
       "       'end': '1700',\n",
       "       'day': 0},\n",
       "      {'is_overnight': False, 'start': '0800', 'end': '1700', 'day': 1},\n",
       "      {'is_overnight': False, 'start': '0800', 'end': '1700', 'day': 2},\n",
       "      {'is_overnight': False, 'start': '0800', 'end': '1700', 'day': 3},\n",
       "      {'is_overnight': False, 'start': '0800', 'end': '1700', 'day': 4},\n",
       "      {'is_overnight': False, 'start': '0800', 'end': '1600', 'day': 5}],\n",
       "     'hours_type': 'REGULAR',\n",
       "     'is_open_now': True}],\n",
       "   'attributes': {'business_temp_closed': None,\n",
       "    'menu_url': 'http://www.braithwaitestudios.com/cafe.html',\n",
       "    'open24_hours': None,\n",
       "    'waitlist_reservation': False}},\n",
       "  {'id': 'ZuWQZKG_XY2odDkZJFprXA',\n",
       "   'alias': 'smyrna-presbyterian-church-waynesboro',\n",
       "   'name': 'Smyrna Presbyterian Church',\n",
       "   'image_url': 'https://s3-media2.fl.yelpcdn.com/bphoto/_PIm1TZj__evMdmgsPzhPw/o.jpg',\n",
       "   'is_closed': False,\n",
       "   'url': 'https://www.yelp.com/biz/smyrna-presbyterian-church-waynesboro?adjust_creative=7Qh2N9ByxbyIDRiutbihsw&utm_campaign=yelp_api_v3&utm_medium=api_v3_business_search&utm_source=7Qh2N9ByxbyIDRiutbihsw',\n",
       "   'review_count': 0,\n",
       "   'categories': [{'alias': 'churches', 'title': 'Churches'}],\n",
       "   'rating': 0.0,\n",
       "   'coordinates': {'latitude': 38.1072273254395,\n",
       "    'longitude': -78.8587493896484},\n",
       "   'transactions': [],\n",
       "   'location': {'address1': '174 Dooms Crossing Rd',\n",
       "    'address2': None,\n",
       "    'address3': None,\n",
       "    'city': 'Waynesboro',\n",
       "    'zip_code': '22980',\n",
       "    'country': 'US',\n",
       "    'state': 'VA',\n",
       "    'display_address': ['174 Dooms Crossing Rd', 'Waynesboro, VA 22980']},\n",
       "   'phone': '+15409424523',\n",
       "   'display_phone': '(540) 942-4523',\n",
       "   'distance': 34023.65313932867,\n",
       "   'business_hours': [],\n",
       "   'attributes': {'business_temp_closed': None,\n",
       "    'waitlist_reservation': None}}],\n",
       " 'total': 6,\n",
       " 'region': {'center': {'longitude': -78.47808837890625,\n",
       "   'latitude': 38.04480169126357}}}"
      ]
     },
     "execution_count": 8,
     "metadata": {},
     "output_type": "execute_result"
    }
   ],
   "source": [
    "response #yTynZugQRl5GVVFAIEAtfQ"
   ]
  },
  {
   "cell_type": "code",
   "execution_count": null,
   "metadata": {},
   "outputs": [],
   "source": []
  }
 ],
 "metadata": {
  "kernelspec": {
   "display_name": "pytorch",
   "language": "python",
   "name": "python3"
  },
  "language_info": {
   "codemirror_mode": {
    "name": "ipython",
    "version": 3
   },
   "file_extension": ".py",
   "mimetype": "text/x-python",
   "name": "python",
   "nbconvert_exporter": "python",
   "pygments_lexer": "ipython3",
   "version": "3.12.5"
  }
 },
 "nbformat": 4,
 "nbformat_minor": 2
}
