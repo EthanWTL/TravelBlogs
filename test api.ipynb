{
 "cells": [
  {
   "cell_type": "code",
   "execution_count": 23,
   "id": "3243bf9e",
   "metadata": {},
   "outputs": [],
   "source": [
    "from pprint import pprint\n",
    "import googlemaps\n",
    "import json"
   ]
  },
  {
   "cell_type": "code",
   "execution_count": 4,
   "id": "91187d49",
   "metadata": {},
   "outputs": [],
   "source": [
    "API_KEY=''"
   ]
  },
  {
   "cell_type": "code",
   "execution_count": 81,
   "id": "7b33f6ab",
   "metadata": {},
   "outputs": [],
   "source": [
    "gmap = googlemaps.Client(API_KEY)"
   ]
  },
  {
   "cell_type": "code",
   "execution_count": 82,
   "id": "7cd4157a",
   "metadata": {
    "scrolled": true
   },
   "outputs": [
    {
     "data": {
      "text/plain": [
       "['__class__',\n",
       " '__delattr__',\n",
       " '__dict__',\n",
       " '__dir__',\n",
       " '__doc__',\n",
       " '__eq__',\n",
       " '__format__',\n",
       " '__ge__',\n",
       " '__getattribute__',\n",
       " '__gt__',\n",
       " '__hash__',\n",
       " '__init__',\n",
       " '__init_subclass__',\n",
       " '__le__',\n",
       " '__lt__',\n",
       " '__module__',\n",
       " '__ne__',\n",
       " '__new__',\n",
       " '__reduce__',\n",
       " '__reduce_ex__',\n",
       " '__repr__',\n",
       " '__setattr__',\n",
       " '__sizeof__',\n",
       " '__str__',\n",
       " '__subclasshook__',\n",
       " '__weakref__',\n",
       " '_generate_auth_url',\n",
       " '_get',\n",
       " '_get_body',\n",
       " '_request',\n",
       " 'addressvalidation',\n",
       " 'base_url',\n",
       " 'channel',\n",
       " 'clear_experience_id',\n",
       " 'client_id',\n",
       " 'client_secret',\n",
       " 'directions',\n",
       " 'distance_matrix',\n",
       " 'elevation',\n",
       " 'elevation_along_path',\n",
       " 'find_place',\n",
       " 'geocode',\n",
       " 'geolocate',\n",
       " 'get_experience_id',\n",
       " 'key',\n",
       " 'nearest_roads',\n",
       " 'place',\n",
       " 'places',\n",
       " 'places_autocomplete',\n",
       " 'places_autocomplete_query',\n",
       " 'places_nearby',\n",
       " 'places_photo',\n",
       " 'queries_per_minute',\n",
       " 'queries_per_second',\n",
       " 'queries_quota',\n",
       " 'requests_kwargs',\n",
       " 'retry_over_query_limit',\n",
       " 'retry_timeout',\n",
       " 'reverse_geocode',\n",
       " 'sent_times',\n",
       " 'session',\n",
       " 'set_experience_id',\n",
       " 'snap_to_roads',\n",
       " 'snapped_speed_limits',\n",
       " 'speed_limits',\n",
       " 'static_map',\n",
       " 'timeout',\n",
       " 'timezone']"
      ]
     },
     "execution_count": 82,
     "metadata": {},
     "output_type": "execute_result"
    }
   ],
   "source": [
    "dir(gmap)"
   ]
  },
  {
   "cell_type": "code",
   "execution_count": 12,
   "id": "596890ae",
   "metadata": {
    "collapsed": true
   },
   "outputs": [
    {
     "name": "stdout",
     "output_type": "stream",
     "text": [
      "[{'address_components': [{'long_name': 'Chicago',\n",
      "                          'short_name': 'Chicago',\n",
      "                          'types': ['locality', 'political']},\n",
      "                         {'long_name': 'Cook County',\n",
      "                          'short_name': 'Cook County',\n",
      "                          'types': ['administrative_area_level_2',\n",
      "                                    'political']},\n",
      "                         {'long_name': 'Illinois',\n",
      "                          'short_name': 'IL',\n",
      "                          'types': ['administrative_area_level_1',\n",
      "                                    'political']},\n",
      "                         {'long_name': 'United States',\n",
      "                          'short_name': 'US',\n",
      "                          'types': ['country', 'political']}],\n",
      "  'formatted_address': 'Chicago, IL, USA',\n",
      "  'geometry': {'bounds': {'northeast': {'lat': 42.023131,\n",
      "                                        'lng': -87.52366099999999},\n",
      "                          'southwest': {'lat': 41.6443349, 'lng': -87.9402669}},\n",
      "               'location': {'lat': 41.8781136, 'lng': -87.6297982},\n",
      "               'location_type': 'APPROXIMATE',\n",
      "               'viewport': {'northeast': {'lat': 42.023131,\n",
      "                                          'lng': -87.52366099999999},\n",
      "                            'southwest': {'lat': 41.6443349,\n",
      "                                          'lng': -87.9402669}}},\n",
      "  'place_id': 'ChIJ7cv00DwsDogRAMDACa2m4K8',\n",
      "  'types': ['locality', 'political']}]\n"
     ]
    }
   ],
   "source": [
    "work_place_address = 'Chicago, IL'\n",
    "response = gmap.geocode(work_place_address)\n",
    "pprint(response)"
   ]
  },
  {
   "cell_type": "code",
   "execution_count": 16,
   "id": "beee6357",
   "metadata": {},
   "outputs": [],
   "source": [
    "#Get attractions within 15km of chicago\n",
    "location = (41.8781136,-87.6297982)\n",
    "\n",
    "places_result = gmap.places_nearby(\n",
    "    location=location,\n",
    "    radius=15000,  # 15km radius\n",
    "    type='tourist_attraction'\n",
    ")"
   ]
  },
  {
   "cell_type": "code",
   "execution_count": 32,
   "id": "e1f104ae",
   "metadata": {},
   "outputs": [
    {
     "name": "stdout",
     "output_type": "stream",
     "text": [
      "1. The Art Institute of Chicago - Rating: 4.8\n",
      "2. Wrigley Field - Rating: 4.8\n",
      "3. Field Museum - Rating: 4.7\n",
      "4. The Chicago Theatre - Rating: 4.7\n",
      "5. 875 North Michigan Avenue - Rating: 4.7\n",
      "6. Cloud Gate - Rating: 4.7\n",
      "7. Millennium Park - Rating: 4.7\n",
      "8. Chicago Cultural Center - Rating: 4.7\n",
      "9. S. R. Crown Hall (IIT College of Architecture) - Rating: 4.7\n",
      "10. National Museum of Mexican Art - Rating: 4.7\n",
      "11. Grant Park - Rating: 4.7\n",
      "12. Lincoln Park Zoo - Rating: 4.6\n",
      "13. Chicago History Museum - Rating: 4.6\n",
      "14. Willis Tower - Rating: 4.5\n",
      "15. Shedd Aquarium - Rating: 4.5\n",
      "16. 360 CHICAGO - Rating: 4.5\n",
      "17. Skydeck Chicago - Rating: 4.5\n",
      "18. Museum Of Contemporary Art Chicago - Rating: 4.4\n",
      "19. Adler Planetarium - Rating: 4.2\n",
      "20. Hawthorne Works - Rating: 4.2\n"
     ]
    }
   ],
   "source": [
    "# Get the top 5 places sorted by rating\n",
    "top_attractions = sorted(places_result['results'], key=lambda x: x.get('rating', 0), reverse=True)[:30]\n",
    "\n",
    "# Print the results\n",
    "for i, place in enumerate(top_attractions, 1):\n",
    "    print(f\"{i}. {place['name']} - Rating: {place.get('rating', 'No rating')}\")"
   ]
  },
  {
   "cell_type": "code",
   "execution_count": null,
   "id": "39103544",
   "metadata": {},
   "outputs": [],
   "source": [
    "# Export the JSON response to a file\n",
    "output_file = \"attractions_in_chicago.json\"\n",
    "\n",
    "# Open the file in write mode and write the JSON data to it\n",
    "with open(output_file, 'w') as file:\n",
    "    json.dump(places_result, file, indent=4)"
   ]
  },
  {
   "cell_type": "code",
   "execution_count": 28,
   "id": "2f4dc9e1",
   "metadata": {
    "scrolled": false
   },
   "outputs": [],
   "source": [
    "# get the result from next page\n",
    "next_page_token = places_result['next_page_token']\n",
    "next_page_result = gmap.places_nearby(page_token=next_page_token)"
   ]
  },
  {
   "cell_type": "code",
   "execution_count": 31,
   "id": "d37b64d6",
   "metadata": {},
   "outputs": [
    {
     "name": "stdout",
     "output_type": "stream",
     "text": [
      "1. Institute for the Study of Ancient Cultures Museum - Rating: 4.8\n",
      "2. Lincoln Park Conservatory - Rating: 4.8\n",
      "3. Garfield Park Conservatory - Rating: 4.8\n",
      "4. Clarence F. Buckingham Memorial Fountain - Rating: 4.7\n",
      "5. Frederick C. Robie House - Rating: 4.7\n",
      "6. Fourth Presbyterian Church - Rating: 4.7\n",
      "7. Chicago Architecture Center - Rating: 4.7\n",
      "8. Dearborn Street Bridge - Rating: 4.7\n",
      "9. Clybourn Place Bridge - Rating: 4.7\n",
      "10. Jane Addams Hull-House Museum - Rating: 4.7\n",
      "11. Intuit: The Center for Intuitive and Outsider Art - Rating: 4.7\n",
      "12. Saint Clement Church - Rating: 4.7\n",
      "13. Nicholas J. Melas Centennial Fountain - Rating: 4.6\n",
      "14. Chicago Children's Museum - Rating: 4.6\n",
      "15. Newberry Library - Rating: 4.6\n",
      "16. Navy Pier - Rating: 4.6\n",
      "17. McCormick Tribune Plaza - Rating: 4.5\n",
      "18. International Museum of Surgical Science - Rating: 4.5\n",
      "19. Union Stockyards Gate - Rating: 4.5\n",
      "20. Loyola University Museum of Art (LUMA) - Rating: 4.3\n"
     ]
    }
   ],
   "source": [
    "# Get the top 5 places sorted by rating\n",
    "top_attractions = sorted(next_page_result['results'], key=lambda x: x.get('rating', 0), reverse=True)[:20]\n",
    "\n",
    "# Print the results\n",
    "for i, place in enumerate(top_attractions, 1):\n",
    "    print(f\"{i}. {place['name']} - Rating: {place.get('rating', 'No rating')}\")"
   ]
  },
  {
   "cell_type": "code",
   "execution_count": 34,
   "id": "b6853c02",
   "metadata": {},
   "outputs": [],
   "source": [
    "# Export the JSON response to a file\n",
    "output_file = \"attractions_in_chicago.json\"\n",
    "\n",
    "# Open the file in write mode and write the JSON data to it\n",
    "with open(output_file, 'w') as file:\n",
    "    json.dump(next_page_result, file, indent=4)"
   ]
  },
  {
   "cell_type": "code",
   "execution_count": 50,
   "id": "3e5310df",
   "metadata": {},
   "outputs": [
    {
     "data": {
      "text/plain": [
       "{'business_status': 'OPERATIONAL',\n",
       " 'geometry': {'location': {'lat': 41.8675726, 'lng': -87.614038},\n",
       "  'viewport': {'northeast': {'lat': 41.8685195802915,\n",
       "    'lng': -87.61318966970849},\n",
       "   'southwest': {'lat': 41.86582161970851, 'lng': -87.61588763029151}}},\n",
       " 'icon': 'https://maps.gstatic.com/mapfiles/place_api/icons/v1/png_71/generic_business-71.png',\n",
       " 'icon_background_color': '#13B5C7',\n",
       " 'icon_mask_base_uri': 'https://maps.gstatic.com/mapfiles/place_api/icons/v2/generic_pinlet',\n",
       " 'name': 'Shedd Aquarium',\n",
       " 'opening_hours': {'open_now': True},\n",
       " 'photos': [{'height': 3968,\n",
       "   'html_attributions': ['<a href=\"https://maps.google.com/maps/contrib/104543295656494101606\">Michael Lipman Photography</a>'],\n",
       "   'photo_reference': 'AdCG2DPg4lV-B7yxZpwMo0L43ps4KGb-0LBbSnGWHr6gq1RvX1xZkBfUV-AP77b5px9GAb5oVm0jBCq0N7wrqt-ZnN8rl98cOW7HtLTBhuD6fyHi_gWXJTe3lCU1tjJNaz9J_JFmmYZ_Ga7MhtieFHWq_k0QZr34-6CboLYR4Ub4UkAETHc',\n",
       "   'width': 5946}],\n",
       " 'place_id': 'ChIJ-XW3X2MrDogR3_tQ3-OdBTI',\n",
       " 'plus_code': {'compound_code': 'V99P+29 Chicago, IL, USA',\n",
       "  'global_code': '86HJV99P+29'},\n",
       " 'price_level': 3,\n",
       " 'rating': 4.5,\n",
       " 'reference': 'ChIJ-XW3X2MrDogR3_tQ3-OdBTI',\n",
       " 'scope': 'GOOGLE',\n",
       " 'types': ['aquarium',\n",
       "  'tourist_attraction',\n",
       "  'point_of_interest',\n",
       "  'establishment'],\n",
       " 'user_ratings_total': 30187,\n",
       " 'vicinity': '1200 South Dusable Lake Shore Drive, Chicago'}"
      ]
     },
     "execution_count": 50,
     "metadata": {},
     "output_type": "execute_result"
    }
   ],
   "source": [
    "#get shedd aquarium\n",
    "sheddAquarium = places_result['results'][5]\n",
    "sheddAquarium"
   ]
  },
  {
   "cell_type": "code",
   "execution_count": 56,
   "id": "82def783",
   "metadata": {},
   "outputs": [],
   "source": [
    "place_id = 'ChIJ-XW3X2MrDogR3_tQ3-OdBTI'\n",
    "sheddAquarium_detail = gmap.place(place_id= place_id,reviews_sort='newest')"
   ]
  },
  {
   "cell_type": "code",
   "execution_count": 62,
   "id": "ef2cebdb",
   "metadata": {},
   "outputs": [
    {
     "data": {
      "text/plain": [
       "{'address_components': [{'long_name': '1200',\n",
       "   'short_name': '1200',\n",
       "   'types': ['street_number']},\n",
       "  {'long_name': 'South Dusable Lake Shore Drive',\n",
       "   'short_name': 'S Dusable Lk Shr Dr',\n",
       "   'types': ['route']},\n",
       "  {'long_name': 'Near South Side',\n",
       "   'short_name': 'Near South Side',\n",
       "   'types': ['neighborhood', 'political']},\n",
       "  {'long_name': 'Chicago',\n",
       "   'short_name': 'Chicago',\n",
       "   'types': ['locality', 'political']},\n",
       "  {'long_name': 'Cook County',\n",
       "   'short_name': 'Cook County',\n",
       "   'types': ['administrative_area_level_2', 'political']},\n",
       "  {'long_name': 'Illinois',\n",
       "   'short_name': 'IL',\n",
       "   'types': ['administrative_area_level_1', 'political']},\n",
       "  {'long_name': 'United States',\n",
       "   'short_name': 'US',\n",
       "   'types': ['country', 'political']},\n",
       "  {'long_name': '60605', 'short_name': '60605', 'types': ['postal_code']}],\n",
       " 'adr_address': '<span class=\"street-address\">1200 S Dusable Lk Shr Dr</span>, <span class=\"locality\">Chicago</span>, <span class=\"region\">IL</span> <span class=\"postal-code\">60605</span>, <span class=\"country-name\">USA</span>',\n",
       " 'business_status': 'OPERATIONAL',\n",
       " 'current_opening_hours': {'open_now': True,\n",
       "  'periods': [{'close': {'date': '2024-10-06', 'day': 0, 'time': '1700'},\n",
       "    'open': {'date': '2024-10-06', 'day': 0, 'time': '0900'}},\n",
       "   {'close': {'date': '2024-10-07', 'day': 1, 'time': '1700'},\n",
       "    'open': {'date': '2024-10-07', 'day': 1, 'time': '0900'}},\n",
       "   {'close': {'date': '2024-10-08', 'day': 2, 'time': '2100'},\n",
       "    'open': {'date': '2024-10-08', 'day': 2, 'time': '0900'}},\n",
       "   {'close': {'date': '2024-10-09', 'day': 3, 'time': '1700'},\n",
       "    'open': {'date': '2024-10-09', 'day': 3, 'time': '0900'}},\n",
       "   {'close': {'date': '2024-10-10', 'day': 4, 'time': '1700'},\n",
       "    'open': {'date': '2024-10-10', 'day': 4, 'time': '0900'}},\n",
       "   {'close': {'date': '2024-10-04', 'day': 5, 'time': '1700'},\n",
       "    'open': {'date': '2024-10-04', 'day': 5, 'time': '0900'}},\n",
       "   {'close': {'date': '2024-10-05', 'day': 6, 'time': '1800'},\n",
       "    'open': {'date': '2024-10-05', 'day': 6, 'time': '0900'}}],\n",
       "  'special_days': [{'date': '2024-10-06', 'exceptional_hours': True},\n",
       "   {'date': '2024-10-08', 'exceptional_hours': True}],\n",
       "  'weekday_text': ['Monday: 9:00\\u202fAM\\u2009–\\u20095:00\\u202fPM',\n",
       "   'Tuesday: 9:00\\u202fAM\\u2009–\\u20099:00\\u202fPM',\n",
       "   'Wednesday: 9:00\\u202fAM\\u2009–\\u20095:00\\u202fPM',\n",
       "   'Thursday: 9:00\\u202fAM\\u2009–\\u20095:00\\u202fPM',\n",
       "   'Friday: 9:00\\u202fAM\\u2009–\\u20095:00\\u202fPM',\n",
       "   'Saturday: 9:00\\u202fAM\\u2009–\\u20096:00\\u202fPM',\n",
       "   'Sunday: 9:00\\u202fAM\\u2009–\\u20095:00\\u202fPM']},\n",
       " 'editorial_summary': {'language': 'en',\n",
       "  'overview': 'State-of-the-art indoor aquarium, famous for its variety of habitats & views of Lake Michigan.'},\n",
       " 'formatted_address': '1200 S Dusable Lk Shr Dr, Chicago, IL 60605, USA',\n",
       " 'formatted_phone_number': '(312) 939-2438',\n",
       " 'geometry': {'location': {'lat': 41.8675726, 'lng': -87.614038},\n",
       "  'viewport': {'northeast': {'lat': 41.8685195802915,\n",
       "    'lng': -87.61318966970849},\n",
       "   'southwest': {'lat': 41.86582161970851, 'lng': -87.61588763029151}}},\n",
       " 'icon': 'https://maps.gstatic.com/mapfiles/place_api/icons/v1/png_71/generic_business-71.png',\n",
       " 'icon_background_color': '#13B5C7',\n",
       " 'icon_mask_base_uri': 'https://maps.gstatic.com/mapfiles/place_api/icons/v2/generic_pinlet',\n",
       " 'international_phone_number': '+1 312-939-2438',\n",
       " 'name': 'Shedd Aquarium',\n",
       " 'opening_hours': {'open_now': True,\n",
       "  'periods': [{'close': {'day': 0, 'time': '1800'},\n",
       "    'open': {'day': 0, 'time': '0900'}},\n",
       "   {'close': {'day': 1, 'time': '1700'}, 'open': {'day': 1, 'time': '0900'}},\n",
       "   {'close': {'day': 2, 'time': '1700'}, 'open': {'day': 2, 'time': '0900'}},\n",
       "   {'close': {'day': 3, 'time': '1700'}, 'open': {'day': 3, 'time': '0900'}},\n",
       "   {'close': {'day': 4, 'time': '1700'}, 'open': {'day': 4, 'time': '0900'}},\n",
       "   {'close': {'day': 5, 'time': '1700'}, 'open': {'day': 5, 'time': '0900'}},\n",
       "   {'close': {'day': 6, 'time': '1800'}, 'open': {'day': 6, 'time': '0900'}}],\n",
       "  'weekday_text': ['Monday: 9:00\\u202fAM\\u2009–\\u20095:00\\u202fPM',\n",
       "   'Tuesday: 9:00\\u202fAM\\u2009–\\u20095:00\\u202fPM',\n",
       "   'Wednesday: 9:00\\u202fAM\\u2009–\\u20095:00\\u202fPM',\n",
       "   'Thursday: 9:00\\u202fAM\\u2009–\\u20095:00\\u202fPM',\n",
       "   'Friday: 9:00\\u202fAM\\u2009–\\u20095:00\\u202fPM',\n",
       "   'Saturday: 9:00\\u202fAM\\u2009–\\u20096:00\\u202fPM',\n",
       "   'Sunday: 9:00\\u202fAM\\u2009–\\u20096:00\\u202fPM']},\n",
       " 'photos': [{'height': 3968,\n",
       "   'html_attributions': ['<a href=\"https://maps.google.com/maps/contrib/104543295656494101606\">Michael Lipman Photography</a>'],\n",
       "   'photo_reference': 'AdCG2DMXP4CEY_AOneZsaA2zhPsk0cPXXFvsu7rYoiFZccsw1t0q9dA4sMmH6CxYorCud4OHDeKgcet1e9H2Xu08lGvpUDZgJrPw0bpVFVowybJ5JoanM_TVg4wkqdf2yNn-_LroRULS8MkpybRTWk9aYQd-fOllQQzIyOPlEpI8-7AcnEQ',\n",
       "   'width': 5946},\n",
       "  {'height': 630,\n",
       "   'html_attributions': ['<a href=\"https://maps.google.com/maps/contrib/118438885936557273364\">Giyermina Echeberria</a>'],\n",
       "   'photo_reference': 'AdCG2DOZNPwP0S945g0Vttqim-a4vtuwiZzdd9NTEnnCUsKX-cniYnAGjp__uCeSb1zjYEjtvwXN85UmcNY9FutoqU1qhyPubw7Jleg7h41aEGK2Jzq2iLsYiNNSJzTw33vCP-8wwvD9RzMiheFNvqXqzMdL34DLRGwNe0ESRTkwl95yZcOd',\n",
       "   'width': 1200},\n",
       "  {'height': 2252,\n",
       "   'html_attributions': ['<a href=\"https://maps.google.com/maps/contrib/110655812664828416218\">Molly Fowler</a>'],\n",
       "   'photo_reference': 'AdCG2DP7zewRf5xE0SStvlXkjIITHDYt2cw65X1SNnIdmhXpZM7pFpnf8ngd2UN-FIUX5OwCDTk83MW0LpB1Uvww0dRdwHFmBXDDvl2FnfqSrsKx7mtE40_pX3Gjlqy4hGZ9LVub5Gbh8b82WDbqq34ZKb3yGXADq0DeEHTXU8Kw5ETeImRB',\n",
       "   'width': 4000},\n",
       "  {'height': 3024,\n",
       "   'html_attributions': ['<a href=\"https://maps.google.com/maps/contrib/104335416162594621709\">jaytee0707</a>'],\n",
       "   'photo_reference': 'AdCG2DMT6Av2P0NenggXIy0efwvz5i6rzEqZYsHnLsjUVKCHGHIM3Ij0y-nsnQfnBfqNj5z2s1mfUKMTZLmZHD8S3yB3C1AUDpVZN81Hx9Yynv0MuBt7jQyYRu7U2yLG9Arl20UONHviwZ0uaJfX1HCWzGWvtz2z_xxJHUq8GFOfj8qngEXk',\n",
       "   'width': 4032},\n",
       "  {'height': 3024,\n",
       "   'html_attributions': ['<a href=\"https://maps.google.com/maps/contrib/107651085859433883573\">Karen Kendzierski</a>'],\n",
       "   'photo_reference': 'AdCG2DM3949hN9rEBlygkvZYfYGT2FZzPxBkmvV8HVTFoEcS0rTp_ld6laGH3Ijh05ARHuk5u0W3Cpr7lkBQfpfw3h_mGxOzyjpzHhnIMF8VhN4L5N-YFx-1MHL_uusSBws6d7lunmITWO00-cvF4nAr0l_lW8TYjI9ay_8IMxWl5anzLb7f',\n",
       "   'width': 4032},\n",
       "  {'height': 3024,\n",
       "   'html_attributions': ['<a href=\"https://maps.google.com/maps/contrib/104336981413375802985\">Michael Warling</a>'],\n",
       "   'photo_reference': 'AdCG2DNLP1g9uDMQ1FhyDxOKUleOLTA8Nvjer_ZUmW_CK6ifJB8-Kncu6ewdK4VKKyXAOowJEHTmuZLSTqsi9eWzLvZr17cbgLXDuoFZZ9x3ZNxCYgT8AgnqZledyTys6oxlH2l--46vbvkTIeVIWjhdyLD73cyTp_4evqdsY3gpiVJwV2BI',\n",
       "   'width': 4032},\n",
       "  {'height': 9000,\n",
       "   'html_attributions': ['<a href=\"https://maps.google.com/maps/contrib/118019577051785595665\">Deplorable Rob</a>'],\n",
       "   'photo_reference': 'AdCG2DNJC_uBzP1_j1N9xE83pVmZESB2ezigsh-DM-wZFDsWJgP8EOFSBqKa4dPxosrYZnf2O400MfSqGMRWAqNoEFf5zUmED-IsA_0x54lB7B1bce53T-4fjKEb-VD47_r8qU2Bvrhx4mNvnh-BGWYDCDDgr-v0hrzKHE1LlFBjl9W3VH0a',\n",
       "   'width': 12000},\n",
       "  {'height': 4032,\n",
       "   'html_attributions': ['<a href=\"https://maps.google.com/maps/contrib/105724986176094476717\">Alex Serenylan</a>'],\n",
       "   'photo_reference': 'AdCG2DMQoSguG8sMytsqQgl2KCvPleCmLsMJjiGPRV_B2w2DHTBNXA2qIFt1XZNQJ6z1TgLF9tUMM1N6RUF0ZFhZr5r0E7AslODXNQmThbexfi4Y_rFzEZLlQlbtHAf6z4DswQ3IpXBWQaogPn6sSqY_rLuSRQrX6aB1uCGaTUdNM4KqcFnK',\n",
       "   'width': 3024},\n",
       "  {'height': 434,\n",
       "   'html_attributions': ['<a href=\"https://maps.google.com/maps/contrib/113671920237281401477\">Benjamin Allison</a>'],\n",
       "   'photo_reference': 'AdCG2DMx2_GPhWaoMZCfg6tkvtPO-4M9L18OmEj5TCNgBjNOOispcSXuvd1a_8dYYy9pYF_z38jWK2iHZRC-egehquZQVi25n9CMKBT5Ia0qzN5trjWIBdL533kNCGzUIIP85xR157DUVMBVy02wFEodPARwpNADXcKaSR0Qcm40p5C8Qnc9',\n",
       "   'width': 651},\n",
       "  {'height': 290,\n",
       "   'html_attributions': ['<a href=\"https://maps.google.com/maps/contrib/102495363329908512130\">Fcricarli Naqreeair</a>'],\n",
       "   'photo_reference': 'AdCG2DNQB03yBcH8x2zlclsfqtZpDqqbTP6ChtFwkZHB68MxuuBUUVFdLwEMLO3uGgTxcmZM9qG4rcrmOTC3G8Q_XtQYGtQKEIqlyt0CMGz_IWSy4EvFhNPt2HQLwvgLO4U5wx33jAUDA4Zv3313Ovm05_oc1Z6qne6jPj2S8kXrOtaJc61U',\n",
       "   'width': 516}],\n",
       " 'place_id': 'ChIJ-XW3X2MrDogR3_tQ3-OdBTI',\n",
       " 'plus_code': {'compound_code': 'V99P+29 Chicago, IL, USA',\n",
       "  'global_code': '86HJV99P+29'},\n",
       " 'price_level': 3,\n",
       " 'rating': 4.5,\n",
       " 'reference': 'ChIJ-XW3X2MrDogR3_tQ3-OdBTI',\n",
       " 'reviews': [{'author_name': 'Jasmine',\n",
       "   'author_url': 'https://www.google.com/maps/contrib/107540512388806199302/reviews',\n",
       "   'language': 'en',\n",
       "   'original_language': 'en',\n",
       "   'profile_photo_url': 'https://lh3.googleusercontent.com/a-/ALV-UjUDLLTnEBSy9E0AgbIpiZTRGRmlnNXu9kewAWGbwBRiEuEYYLjD=s128-c0x00000000-cc-rp-mo-ba4',\n",
       "   'rating': 4,\n",
       "   'relative_time_description': 'in the last week',\n",
       "   'text': \"The Shedd Aquarium was a great place to gaze upon aquatic life and learn about the importance of taking care of these amazing creatures. The exterior of the building also has some hidden sea life motifs, which was very cool to spot. There are so many interesting creatures from jellyfish to turtles to beluga whales. The Shedd Aquarium is located close to the edge of Lake Michigan. If able, I highly recommend biking to the aquarium and taking the scenic lake path along Lake Michigan; it truly was an experience in and of itself, and there are many bike racks near the aquarium since it sits on the Museum Campus park.\\n\\nWhile inside the aquarium, I was pleasantly surprised by the variety of interactive experiences that were available. I was able to pet and feed stingrays (from May - October), watch beluga whales be trained, and even touch a starfish which I haven't done or seen before.\\n\\nThe gift shop was also really nice and had a lot of wonderful tokens for each of the main animals at the aquarium like the iconic octopus. Overall, I had a wonderful time and think this a great place for families and children to learn about the many sea creatures on our planet.\",\n",
       "   'time': 1728066611,\n",
       "   'translated': False},\n",
       "  {'author_name': 'Ken Baum',\n",
       "   'author_url': 'https://www.google.com/maps/contrib/117292269506168770452/reviews',\n",
       "   'profile_photo_url': 'https://lh3.googleusercontent.com/a-/ALV-UjVXTPc8FY7sOaIQo2mrIwFXBSuD0GMlls1AXFHbf8YySA_2OsX8=s128-c0x00000000-cc-rp-mo-ba6',\n",
       "   'rating': 5,\n",
       "   'relative_time_description': 'in the last week',\n",
       "   'text': '',\n",
       "   'time': 1727987254,\n",
       "   'translated': False},\n",
       "  {'author_name': 'Kevin cruz',\n",
       "   'author_url': 'https://www.google.com/maps/contrib/112538653667788086024/reviews',\n",
       "   'profile_photo_url': 'https://lh3.googleusercontent.com/a-/ALV-UjVoqrk3ASkfsKRMK6jBW-LuJagekyLRoaOZbFZArbxOwbL4vFM=s128-c0x00000000-cc-rp-mo-ba2',\n",
       "   'rating': 5,\n",
       "   'relative_time_description': 'in the last week',\n",
       "   'text': '',\n",
       "   'time': 1727891077,\n",
       "   'translated': False},\n",
       "  {'author_name': 'Denis Flores',\n",
       "   'author_url': 'https://www.google.com/maps/contrib/108798885056563320181/reviews',\n",
       "   'profile_photo_url': 'https://lh3.googleusercontent.com/a-/ALV-UjU9IiV5tJxkV3rqeeG1Iij97MaDWNxDgTFHpB_bKwuvULTuRjJJ=s128-c0x00000000-cc-rp-mo-ba4',\n",
       "   'rating': 5,\n",
       "   'relative_time_description': 'in the last week',\n",
       "   'text': '',\n",
       "   'time': 1727802822,\n",
       "   'translated': False},\n",
       "  {'author_name': 'Rick Bame',\n",
       "   'author_url': 'https://www.google.com/maps/contrib/117766244130466925375/reviews',\n",
       "   'language': 'en',\n",
       "   'original_language': 'en',\n",
       "   'profile_photo_url': 'https://lh3.googleusercontent.com/a-/ALV-UjWag5epXMG4cFBfkbQR2oDtdHspAmLv5CPyFySMhVJX81ExRa9i=s128-c0x00000000-cc-rp-mo-ba6',\n",
       "   'rating': 5,\n",
       "   'relative_time_description': 'in the last week',\n",
       "   'text': 'Shedd is awesome! I have been wanting to come here my entire life. I finally got the chance. That being said I do have a pretty big complaint. I purchased tickets and made reservations ahead of time and was not told that the aquarium was going to be closing early for a private event the day I was there. It is recommended that one spend 4-5 hours at Shedd to really see as much as possible for the full experience. I only got to spend 2.5 hours there. I was quite upset, as was my friend. Because of this, we were only able to see one show, none of the theater showtimes and obviously not everything the aquarium has to offer. Not the best first experience it could have been. It would be nice to have this rectified somehow.',\n",
       "   'time': 1727800775,\n",
       "   'translated': False}],\n",
       " 'types': ['aquarium',\n",
       "  'tourist_attraction',\n",
       "  'point_of_interest',\n",
       "  'establishment'],\n",
       " 'url': 'https://maps.google.com/?cid=3604460678809713631',\n",
       " 'user_ratings_total': 30187,\n",
       " 'utc_offset': -300,\n",
       " 'vicinity': '1200 South Dusable Lake Shore Drive, Chicago',\n",
       " 'website': 'https://www.sheddaquarium.org/',\n",
       " 'wheelchair_accessible_entrance': True}"
      ]
     },
     "execution_count": 62,
     "metadata": {},
     "output_type": "execute_result"
    }
   ],
   "source": [
    "sheddAquarium_detail['result']"
   ]
  },
  {
   "cell_type": "code",
   "execution_count": 75,
   "id": "9bb1a61a",
   "metadata": {},
   "outputs": [
    {
     "data": {
      "text/plain": [
       "{'business_status': 'OPERATIONAL',\n",
       " 'geometry': {'location': {'lat': 41.8826572, 'lng': -87.6233039},\n",
       "  'viewport': {'northeast': {'lat': 41.8840155802915,\n",
       "    'lng': -87.6222134197085},\n",
       "   'southwest': {'lat': 41.8813176197085, 'lng': -87.62491138029151}}},\n",
       " 'icon': 'https://maps.gstatic.com/mapfiles/place_api/icons/v1/png_71/generic_business-71.png',\n",
       " 'icon_background_color': '#7B9EB0',\n",
       " 'icon_mask_base_uri': 'https://maps.gstatic.com/mapfiles/place_api/icons/v2/generic_pinlet',\n",
       " 'name': 'Cloud Gate',\n",
       " 'opening_hours': {'open_now': True},\n",
       " 'photos': [{'height': 1000,\n",
       "   'html_attributions': ['<a href=\"https://maps.google.com/maps/contrib/114610628376887622359\">Еаликино Абинореал</a>'],\n",
       "   'photo_reference': 'AdCG2DOElXLetJuxzkNYiOFIOg9270ZDMEk9ibZ4JU6ZbVejbtCKv8M-tfPJ35-sbyyEluLNwh1ilvUbH2n39yenC6Dv7HDBp0yeoOBYsqv_Wu275ttiNhZcEB2ukfvqX0qIFRAOyF0uzqmHID5Zy-l3krV7iWSk4YhF97QiPEY_mOJRwHst',\n",
       "   'width': 1500}],\n",
       " 'place_id': 'ChIJ9Sszh6YsDogRUUo6zu8_TQY',\n",
       " 'plus_code': {'compound_code': 'V9MG+3M Chicago, IL, USA',\n",
       "  'global_code': '86HJV9MG+3M'},\n",
       " 'rating': 4.7,\n",
       " 'reference': 'ChIJ9Sszh6YsDogRUUo6zu8_TQY',\n",
       " 'scope': 'GOOGLE',\n",
       " 'types': ['tourist_attraction', 'point_of_interest', 'establishment'],\n",
       " 'user_ratings_total': 31455,\n",
       " 'vicinity': '201 East Randolph Street, Chicago'}"
      ]
     },
     "execution_count": 75,
     "metadata": {},
     "output_type": "execute_result"
    }
   ],
   "source": [
    "#get cloud gate\n",
    "cloudGate = places_result['results'][10]\n",
    "cloudGate"
   ]
  },
  {
   "cell_type": "code",
   "execution_count": 108,
   "id": "fef10747",
   "metadata": {},
   "outputs": [],
   "source": [
    "#try distance matrix\n",
    "origins = [\"place_id:ChIJ-XW3X2MrDogR3_tQ3-OdBTI\", \"place_id:ChIJ9Sszh6YsDogRUUo6zu8_TQY\"]\n",
    "destinations = [\"place_id:ChIJV0AwM30rDogR2sd-X0cgErU\", \"place_id:ChIJKXA7AlXTD4gRsvBFJ8wG9x4\"]\n",
    "\n",
    "# Request distance matrix\n",
    "matrix_result = gmap.distance_matrix(\n",
    "    origins=origins,\n",
    "    destinations=destinations,\n",
    "    mode=\"transit\",  # You can change this to \"walking\", \"bicycling\", \"transit\" etc.\n",
    "    departure_time=\"now\",  # Real-time traffic, use a timestamp for scheduled trips\n",
    "    units=\"imperial\"  # Use \"metric\" for metric units\n",
    ")"
   ]
  },
  {
   "cell_type": "code",
   "execution_count": 109,
   "id": "831ee8bb",
   "metadata": {
    "scrolled": true
   },
   "outputs": [
    {
     "data": {
      "text/plain": [
       "{'destination_addresses': ['1400 S Lake Shore Dr, Chicago, IL 60605, USA',\n",
       "  '220 E Chicago Ave, Chicago, IL 60611, USA'],\n",
       " 'origin_addresses': ['1200 S Dusable Lk Shr Dr, Chicago, IL 60605, USA',\n",
       "  '201 E Randolph St, Chicago, IL 60602, USA'],\n",
       " 'rows': [{'elements': [{'distance': {'text': '0.1 mi', 'value': 159},\n",
       "     'duration': {'text': '2 mins', 'value': 125},\n",
       "     'status': 'OK'},\n",
       "    {'distance': {'text': '3.1 mi', 'value': 4977},\n",
       "     'duration': {'text': '33 mins', 'value': 1951},\n",
       "     'status': 'OK'}]},\n",
       "  {'elements': [{'distance': {'text': '1.7 mi', 'value': 2739},\n",
       "     'duration': {'text': '18 mins', 'value': 1089},\n",
       "     'fare': {'currency': 'USD', 'text': '$3.75', 'value': 3.75},\n",
       "     'status': 'OK'},\n",
       "    {'distance': {'text': '1.3 mi', 'value': 2050},\n",
       "     'duration': {'text': '15 mins', 'value': 916},\n",
       "     'status': 'OK'}]}],\n",
       " 'status': 'OK'}"
      ]
     },
     "execution_count": 109,
     "metadata": {},
     "output_type": "execute_result"
    }
   ],
   "source": [
    "matrix_result"
   ]
  },
  {
   "cell_type": "code",
   "execution_count": 105,
   "id": "c8d466f8",
   "metadata": {},
   "outputs": [
    {
     "data": {
      "text/plain": [
       "{'business_status': 'OPERATIONAL',\n",
       " 'geometry': {'location': {'lat': 41.8972114, 'lng': -87.6209882},\n",
       "  'viewport': {'northeast': {'lat': 41.8985747302915,\n",
       "    'lng': -87.61938285000001},\n",
       "   'southwest': {'lat': 41.8958767697085, 'lng': -87.62265024999998}}},\n",
       " 'icon': 'https://maps.gstatic.com/mapfiles/place_api/icons/v1/png_71/museum-71.png',\n",
       " 'icon_background_color': '#13B5C7',\n",
       " 'icon_mask_base_uri': 'https://maps.gstatic.com/mapfiles/place_api/icons/v2/museum_pinlet',\n",
       " 'name': 'Museum Of Contemporary Art Chicago',\n",
       " 'opening_hours': {'open_now': True},\n",
       " 'photos': [{'height': 600,\n",
       "   'html_attributions': ['<a href=\"https://maps.google.com/maps/contrib/118439064822831179487\">Kieran John</a>'],\n",
       "   'photo_reference': 'AdCG2DMvRJoT9vCQU3vOfSX4wbBhlr2HnbOrpIKaQV1nymtgJE5P0vk-MFztVH40OoFPXcILkEVqh2AgtxRPMYdI9RoEv5NgTlVXZHb7fbUPCEvhssa-Uis8RWct7P2fvT0SbzjzL1TQyIUOLCBhihVvuSDPH-BQAEks52DgWdjQ4OVSRRup',\n",
       "   'width': 500}],\n",
       " 'place_id': 'ChIJKXA7AlXTD4gRsvBFJ8wG9x4',\n",
       " 'plus_code': {'compound_code': 'V9WH+VJ Chicago, IL, USA',\n",
       "  'global_code': '86HJV9WH+VJ'},\n",
       " 'rating': 4.4,\n",
       " 'reference': 'ChIJKXA7AlXTD4gRsvBFJ8wG9x4',\n",
       " 'scope': 'GOOGLE',\n",
       " 'types': ['tourist_attraction',\n",
       "  'museum',\n",
       "  'point_of_interest',\n",
       "  'establishment'],\n",
       " 'user_ratings_total': 5888,\n",
       " 'vicinity': '220 East Chicago Avenue, Chicago'}"
      ]
     },
     "execution_count": 105,
     "metadata": {},
     "output_type": "execute_result"
    }
   ],
   "source": [
    "places_result['results'][14]"
   ]
  },
  {
   "cell_type": "code",
   "execution_count": 90,
   "id": "2cef98c3",
   "metadata": {
    "scrolled": true
   },
   "outputs": [
    {
     "name": "stdout",
     "output_type": "stream",
     "text": [
      "From: 1200 S Dusable Lk Shr Dr, Chicago, IL 60605, USA To: 1400 S Lake Shore Dr, Chicago, IL 60605, USA\n",
      "Distance: 0.1 mi, Duration: 2 mins\n",
      "Duration in traffic: N/A\n",
      "From: 1200 S Dusable Lk Shr Dr, Chicago, IL 60605, USA To: 111 S Michigan Ave, Chicago, IL 60603, USA\n",
      "Distance: 1.4 mi, Duration: 15 mins\n",
      "Duration in traffic: N/A\n",
      "From: Millennium Park, Chicago, IL, USA To: 1400 S Lake Shore Dr, Chicago, IL 60605, USA\n",
      "Distance: 1.7 mi, Duration: 24 mins\n",
      "Duration in traffic: N/A\n",
      "From: Millennium Park, Chicago, IL, USA To: 111 S Michigan Ave, Chicago, IL 60603, USA\n",
      "Distance: 0.2 mi, Duration: 6 mins\n",
      "Duration in traffic: N/A\n"
     ]
    }
   ],
   "source": [
    "# Extract and print relevant details from the distance matrix response\n",
    "for i, origin in enumerate(matrix_result['origin_addresses']):\n",
    "    for j, destination in enumerate(matrix_result['destination_addresses']):\n",
    "        element = matrix_result['rows'][i]['elements'][j]\n",
    "        if element['status'] == 'OK':\n",
    "            print(f\"From: {origin} To: {destination}\")\n",
    "            print(f\"Distance: {element['distance']['text']}, Duration: {element['duration']['text']}\")\n",
    "            print(f\"Duration in traffic: {element.get('duration_in_traffic', {}).get('text', 'N/A')}\")\n",
    "        else:\n",
    "            print(f\"From: {origin} To: {destination} - {element['status']}\")"
   ]
  },
  {
   "cell_type": "code",
   "execution_count": null,
   "id": "548ec578",
   "metadata": {},
   "outputs": [],
   "source": []
  }
 ],
 "metadata": {
  "kernelspec": {
   "display_name": "GPU3090",
   "language": "python",
   "name": "gpu3090"
  },
  "language_info": {
   "codemirror_mode": {
    "name": "ipython",
    "version": 3
   },
   "file_extension": ".py",
   "mimetype": "text/x-python",
   "name": "python",
   "nbconvert_exporter": "python",
   "pygments_lexer": "ipython3",
   "version": "3.9.18"
  }
 },
 "nbformat": 4,
 "nbformat_minor": 5
}
